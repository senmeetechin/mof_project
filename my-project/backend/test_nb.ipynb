{
 "cells": [
  {
   "cell_type": "code",
   "execution_count": 3,
   "metadata": {},
   "outputs": [
    {
     "data": {
      "text/html": [
       "<div>\n",
       "<style scoped>\n",
       "    .dataframe tbody tr th:only-of-type {\n",
       "        vertical-align: middle;\n",
       "    }\n",
       "\n",
       "    .dataframe tbody tr th {\n",
       "        vertical-align: top;\n",
       "    }\n",
       "\n",
       "    .dataframe thead th {\n",
       "        text-align: right;\n",
       "    }\n",
       "</style>\n",
       "<table border=\"1\" class=\"dataframe\">\n",
       "  <thead>\n",
       "    <tr style=\"text-align: right;\">\n",
       "      <th></th>\n",
       "      <th>name</th>\n",
       "      <th>Di</th>\n",
       "      <th>Df</th>\n",
       "      <th>Dif</th>\n",
       "      <th>volume</th>\n",
       "      <th>ASA_A2</th>\n",
       "      <th>ASA_m2/cm3</th>\n",
       "      <th>ASA_m2/g</th>\n",
       "      <th>NASA_A2</th>\n",
       "      <th>NASA_m2/cm3</th>\n",
       "      <th>NASA_m2/g</th>\n",
       "    </tr>\n",
       "  </thead>\n",
       "  <tbody>\n",
       "    <tr>\n",
       "      <th>0</th>\n",
       "      <td>str_m6_o46_o47_etb_sym.3</td>\n",
       "      <td>2.98799</td>\n",
       "      <td>2.22227</td>\n",
       "      <td>2.93911</td>\n",
       "      <td>1454.46</td>\n",
       "      <td>0.0</td>\n",
       "      <td>0.0</td>\n",
       "      <td>0.0</td>\n",
       "      <td>0.0</td>\n",
       "      <td>0.0</td>\n",
       "      <td>0.0</td>\n",
       "    </tr>\n",
       "  </tbody>\n",
       "</table>\n",
       "</div>"
      ],
      "text/plain": [
       "                       name       Di       Df      Dif   volume  ASA_A2   \n",
       "0  str_m6_o46_o47_etb_sym.3  2.98799  2.22227  2.93911  1454.46     0.0  \\\n",
       "\n",
       "   ASA_m2/cm3  ASA_m2/g  NASA_A2  NASA_m2/cm3  NASA_m2/g  \n",
       "0         0.0       0.0      0.0          0.0        0.0  "
      ]
     },
     "execution_count": 3,
     "metadata": {},
     "output_type": "execute_result"
    }
   ],
   "source": [
    "import pandas as pd\n",
    "df = pd.read_csv('./extracted/str_m6_o46_o47_etb_sym.3_zeo.csv')\n",
    "df"
   ]
  }
 ],
 "metadata": {
  "kernelspec": {
   "display_name": "mof_env",
   "language": "python",
   "name": "python3"
  },
  "language_info": {
   "codemirror_mode": {
    "name": "ipython",
    "version": 3
   },
   "file_extension": ".py",
   "mimetype": "text/x-python",
   "name": "python",
   "nbconvert_exporter": "python",
   "pygments_lexer": "ipython3",
   "version": "3.9.16"
  },
  "orig_nbformat": 4
 },
 "nbformat": 4,
 "nbformat_minor": 2
}
